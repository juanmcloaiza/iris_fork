{
 "cells": [
  {
   "cell_type": "code",
   "execution_count": 1,
   "metadata": {
    "collapsed": false
   },
   "outputs": [],
   "source": [
    "#Import modules:\n",
    "import sys\n",
    "import os, errno\n",
    "import user_interface as ui\n",
    "import matplotlib.pyplot as plt\n",
    "import iris\n",
    "import iris.quickplot as iplt\n",
    "import numpy as np\n",
    "\n",
    "\n",
    "\n",
    "from __future__ import (absolute_import, division, print_function)\n",
    "from six.moves import (filter, input, map, range, zip)  # noqa\n",
    "\n"
   ]
  },
  {
   "cell_type": "code",
   "execution_count": 2,
   "metadata": {
    "collapsed": false
   },
   "outputs": [],
   "source": [
    "cubes = iris.load('../../coads_climatology.nc.nc')"
   ]
  },
  {
   "cell_type": "code",
   "execution_count": 3,
   "metadata": {
    "collapsed": false
   },
   "outputs": [
    {
     "name": "stdout",
     "output_type": "stream",
     "text": [
      "0: SEA SURFACE TEMPERATURE / (degree_celsius) (TIME: 12; latitude: 90; longitude: 180)\n",
      "1: AIR TEMPERATURE / (degree_celsius)  (TIME: 12; latitude: 90; longitude: 180)\n",
      "2: ZONAL WIND / (meter per second)     (TIME: 12; latitude: 90; longitude: 180)\n",
      "3: MERIDIONAL WIND / (meter per second) (TIME: 12; latitude: 90; longitude: 180)\n"
     ]
    }
   ],
   "source": [
    "print(cubes)"
   ]
  },
  {
   "cell_type": "code",
   "execution_count": 4,
   "metadata": {
    "collapsed": false
   },
   "outputs": [
    {
     "name": "stdout",
     "output_type": "stream",
     "text": [
      "AIR TEMPERATURE / (degree_celsius)  (TIME: 12; latitude: 90; longitude: 180)\n",
      "     Dimension coordinates:\n",
      "          TIME                           x             -              -\n",
      "          latitude                       -             x              -\n",
      "          longitude                      -             -              x\n",
      "     Attributes:\n",
      "          DODS_EXTRA.Unlimited_Dimension: TIME\n",
      "          NC_GLOBAL.history: FERRET V4.30 (debug/no GUI) 15-Aug-96\n",
      "          history: From coads_climatology\n"
     ]
    }
   ],
   "source": [
    "for c in cubes:\n",
    "    if c.name() == 'AIR TEMPERATURE':\n",
    "        c0 = c\n",
    "print(c0)\n"
   ]
  },
  {
   "cell_type": "code",
   "execution_count": 5,
   "metadata": {
    "collapsed": false
   },
   "outputs": [
    {
     "name": "stdout",
     "output_type": "stream",
     "text": [
      "TIME\n",
      "latitude\n",
      "longitude\n"
     ]
    }
   ],
   "source": [
    "for coord in c0.coords():\n",
    "    print(coord.name())"
   ]
  },
  {
   "cell_type": "code",
   "execution_count": 6,
   "metadata": {
    "collapsed": false
   },
   "outputs": [
    {
     "name": "stdout",
     "output_type": "stream",
     "text": [
      "DimCoord(array([-89., -87., -85., -83., -81., -79., -77., -75., -73., -71., -69.,\n",
      "       -67., -65., -63., -61., -59., -57., -55., -53., -51., -49., -47.,\n",
      "       -45., -43., -41., -39., -37., -35., -33., -31., -29., -27., -25.,\n",
      "       -23., -21., -19., -17., -15., -13., -11.,  -9.,  -7.,  -5.,  -3.,\n",
      "        -1.,   1.,   3.,   5.,   7.,   9.,  11.,  13.,  15.,  17.,  19.,\n",
      "        21.,  23.,  25.,  27.,  29.,  31.,  33.,  35.,  37.,  39.,  41.,\n",
      "        43.,  45.,  47.,  49.,  51.,  53.,  55.,  57.,  59.,  61.,  63.,\n",
      "        65.,  67.,  69.,  71.,  73.,  75.,  77.,  79.,  81.,  83.,  85.,\n",
      "        87.,  89.]), standard_name='latitude', units=Unit('degrees'), var_name='COADSY', attributes={'point_spacing': 'even'})\n",
      "DimCoord(array([  21.,   23.,   25.,   27.,   29.,   31.,   33.,   35.,   37.,\n",
      "         39.,   41.,   43.,   45.,   47.,   49.,   51.,   53.,   55.,\n",
      "         57.,   59.,   61.,   63.,   65.,   67.,   69.,   71.,   73.,\n",
      "         75.,   77.,   79.,   81.,   83.,   85.,   87.,   89.,   91.,\n",
      "         93.,   95.,   97.,   99.,  101.,  103.,  105.,  107.,  109.,\n",
      "        111.,  113.,  115.,  117.,  119.,  121.,  123.,  125.,  127.,\n",
      "        129.,  131.,  133.,  135.,  137.,  139.,  141.,  143.,  145.,\n",
      "        147.,  149.,  151.,  153.,  155.,  157.,  159.,  161.,  163.,\n",
      "        165.,  167.,  169.,  171.,  173.,  175.,  177.,  179.,  181.,\n",
      "        183.,  185.,  187.,  189.,  191.,  193.,  195.,  197.,  199.,\n",
      "        201.,  203.,  205.,  207.,  209.,  211.,  213.,  215.,  217.,\n",
      "        219.,  221.,  223.,  225.,  227.,  229.,  231.,  233.,  235.,\n",
      "        237.,  239.,  241.,  243.,  245.,  247.,  249.,  251.,  253.,\n",
      "        255.,  257.,  259.,  261.,  263.,  265.,  267.,  269.,  271.,\n",
      "        273.,  275.,  277.,  279.,  281.,  283.,  285.,  287.,  289.,\n",
      "        291.,  293.,  295.,  297.,  299.,  301.,  303.,  305.,  307.,\n",
      "        309.,  311.,  313.,  315.,  317.,  319.,  321.,  323.,  325.,\n",
      "        327.,  329.,  331.,  333.,  335.,  337.,  339.,  341.,  343.,\n",
      "        345.,  347.,  349.,  351.,  353.,  355.,  357.,  359.,  361.,\n",
      "        363.,  365.,  367.,  369.,  371.,  373.,  375.,  377.,  379.]), standard_name='longitude', units=Unit('degrees'), var_name='COADSX', attributes={'point_spacing': 'even', 'modulo': ' '}, circular=True)\n"
     ]
    }
   ],
   "source": [
    "print(c0.coord('latitude'))\n",
    "print(c0.coord('longitude'))"
   ]
  },
  {
   "cell_type": "code",
   "execution_count": 7,
   "metadata": {
    "collapsed": false
   },
   "outputs": [],
   "source": [
    "#This will give error:\n",
    "#ValueError: \n",
    "#zero not allowed as a reference year, does not exist in Julian or Gregorian calendars\n",
    "\n",
    "if(0): print(c0.coord('TIME'))\n",
    "\n",
    "#Why? ...See the error and next box for the solution."
   ]
  },
  {
   "cell_type": "code",
   "execution_count": 8,
   "metadata": {
    "collapsed": false
   },
   "outputs": [
    {
     "name": "stdout",
     "output_type": "stream",
     "text": [
      "hour since 0000-01-01 00:00:00\n"
     ]
    }
   ],
   "source": [
    "#Reason for the error above: The reference year is set to zero...\n",
    "#See...\n",
    "print(c0.coord('TIME').units)"
   ]
  },
  {
   "cell_type": "code",
   "execution_count": 9,
   "metadata": {
    "collapsed": false
   },
   "outputs": [
    {
     "name": "stdout",
     "output_type": "stream",
     "text": [
      "hour since 1970-01-01 00:00:00\n"
     ]
    }
   ],
   "source": [
    "#We change the reference year by doing the following:\n",
    "c0.coord('TIME').units='hour since epoch'\n",
    "c0t = c0.coord('TIME')\n",
    "#\"epoch\" = 1st of january of 1970.\n",
    "print(c0t.units)\n"
   ]
  },
  {
   "cell_type": "code",
   "execution_count": 10,
   "metadata": {
    "collapsed": false
   },
   "outputs": [
    {
     "name": "stdout",
     "output_type": "stream",
     "text": [
      "DimCoord([1970-01-16 06:00:00, 1970-02-15 16:29:06.000004,\n",
      "       1970-03-18 02:58:12, 1970-04-17 13:27:18, 1970-05-17 23:56:24,\n",
      "       1970-06-17 10:25:30.000009, 1970-07-17 20:54:36,\n",
      "       1970-08-17 07:23:42, 1970-09-16 17:52:48.000003,\n",
      "       1970-10-17 04:21:54, 1970-11-16 14:51:00, 1970-12-17 01:20:06], standard_name=None, calendar='gregorian', var_name='TIME', attributes={'time_origin': '1-JAN-0000 00:00:00', 'modulo': ' '})\n"
     ]
    }
   ],
   "source": [
    "#Now we can safely print the coordinate:\n",
    "print(c0.coord('TIME'))"
   ]
  },
  {
   "cell_type": "code",
   "execution_count": 11,
   "metadata": {
    "collapsed": false
   },
   "outputs": [
    {
     "name": "stdout",
     "output_type": "stream",
     "text": [
      "1-JAN-0000 00:00:00\n",
      "01-JAN-1970 00:00:00\n"
     ]
    }
   ],
   "source": [
    "#As the 'time_origin' attribute is still wrong...\n",
    "print(c0.coord('TIME').attributes['time_origin'])\n",
    "\n",
    "#We change it by:\n",
    "c0.coord('TIME').attributes['time_origin'] = '01-JAN-1970 00:00:00'\n",
    "\n",
    "print(c0.coord('TIME').attributes['time_origin'])"
   ]
  },
  {
   "cell_type": "code",
   "execution_count": 12,
   "metadata": {
    "collapsed": false
   },
   "outputs": [
    {
     "name": "stdout",
     "output_type": "stream",
     "text": [
      "The original cube:\n",
      " AIR TEMPERATURE / (degree_celsius)  (TIME: 12; latitude: 90; longitude: 180)\n",
      "     Dimension coordinates:\n",
      "          TIME                           x             -              -\n",
      "          latitude                       -             x              -\n",
      "          longitude                      -             -              x\n",
      "     Attributes:\n",
      "          DODS_EXTRA.Unlimited_Dimension: TIME\n",
      "          NC_GLOBAL.history: FERRET V4.30 (debug/no GUI) 15-Aug-96\n",
      "          history: From coads_climatology\n",
      "\n",
      "Extracting a sub-cube with only longitude = 45:\n",
      " AIR TEMPERATURE / (degree_celsius)  (TIME: 12; latitude: 90)\n",
      "     Dimension coordinates:\n",
      "          TIME                           x             -\n",
      "          latitude                       -             x\n",
      "     Scalar coordinates:\n",
      "          longitude: 45.0 degrees\n",
      "     Attributes:\n",
      "          DODS_EXTRA.Unlimited_Dimension: TIME\n",
      "          NC_GLOBAL.history: FERRET V4.30 (debug/no GUI) 15-Aug-96\n",
      "          history: From coads_climatology\n",
      "\n",
      "Extracting again a sub-cube with only latitude = 47:\n",
      " AIR TEMPERATURE / (degree_celsius)  (TIME: 12)\n",
      "     Dimension coordinates:\n",
      "          TIME                           x\n",
      "     Scalar coordinates:\n",
      "          latitude: 47.0 degrees\n",
      "          longitude: 45.0 degrees\n",
      "     Attributes:\n",
      "          DODS_EXTRA.Unlimited_Dimension: TIME\n",
      "          NC_GLOBAL.history: FERRET V4.30 (debug/no GUI) 15-Aug-96\n",
      "          history: From coads_climatology\n",
      "\n",
      "Extracting at once by indices:\n",
      " AIR TEMPERATURE / (degree_celsius)  (TIME: 12)\n",
      "     Dimension coordinates:\n",
      "          TIME                           x\n",
      "     Scalar coordinates:\n",
      "          latitude: 1.0 degrees\n",
      "          longitude: 181.0 degrees\n",
      "     Attributes:\n",
      "          DODS_EXTRA.Unlimited_Dimension: TIME\n",
      "          NC_GLOBAL.history: FERRET V4.30 (debug/no GUI) 15-Aug-96\n",
      "          history: From coads_climatology\n",
      "\n"
     ]
    }
   ],
   "source": [
    "#We need to extract a 1D cube and for this we create constraints:\n",
    "print(\"The original cube:\\n {}\\n\".format(c0))\n",
    "c1 = c0.extract(iris.Constraint(longitude=45))\n",
    "print(\"Extracting a sub-cube with only longitude = 45:\\n {}\\n\".format(c1))\n",
    "c2 = c1.extract(iris.Constraint(latitude=47))\n",
    "print(\"Extracting again a sub-cube with only latitude = 47:\\n {}\\n\".format(c2))\n",
    "\n",
    "#There's another way of extacting a subset of a cube:\n",
    "#Another way of slicing a cube:\n",
    "c3 = c0[:,45,80]\n",
    "print(\"Extracting at once by indices:\\n {}\\n\".format(c3))"
   ]
  },
  {
   "cell_type": "code",
   "execution_count": 13,
   "metadata": {
    "collapsed": false
   },
   "outputs": [
    {
     "name": "stdout",
     "output_type": "stream",
     "text": [
      "[-- -- -- -- -- -- -- -- -- -- -- --]\n",
      "<class 'numpy.ma.core.MaskedArray'>\n",
      "[ -1.17999995  -1.45724142  -1.76909089 ..., -37.43999863 -39.85000229\n",
      " -23.67000008]\n",
      "194400\n",
      "107194\n"
     ]
    }
   ],
   "source": [
    "#If we print c2.data we get something weird:\n",
    "if(1): print(c2.data)\n",
    "\n",
    "#That is because cube thata is a \"masked array\" object.\n",
    "print(type(c0.data))\n",
    "\n",
    "#To show only the valid entries, we use:\n",
    "print((c0.data.compressed()))\n",
    "\n",
    "#How many entries are not masked, i.e. valid?\n",
    "print(c0.data.size)\n",
    "print(c0.data.compressed().size)"
   ]
  },
  {
   "cell_type": "code",
   "execution_count": 14,
   "metadata": {
    "collapsed": false
   },
   "outputs": [
    {
     "name": "stdout",
     "output_type": "stream",
     "text": [
      "AIR TEMPERATURE / (degree_celsius)  (TIME: 12)\n",
      "     Dimension coordinates:\n",
      "          TIME                           x\n",
      "     Scalar coordinates:\n",
      "          latitude: 0.0 degrees, bound=(-90.0, 90.0) degrees\n",
      "          longitude: 200.0 degrees, bound=(20.0, 380.0) degrees\n",
      "     Attributes:\n",
      "          DODS_EXTRA.Unlimited_Dimension: TIME\n",
      "          NC_GLOBAL.history: FERRET V4.30 (debug/no GUI) 15-Aug-96\n",
      "          history: From coads_climatology\n",
      "     Cell methods:\n",
      "          mean: longitude, latitude\n"
     ]
    },
    {
     "name": "stderr",
     "output_type": "stream",
     "text": [
      "../lib/iris/analysis/cartography.py:327: UserWarning: Using DEFAULT_SPHERICAL_EARTH_RADIUS.\n",
      "  warnings.warn(\"Using DEFAULT_SPHERICAL_EARTH_RADIUS.\")\n"
     ]
    }
   ],
   "source": [
    "#That was not a good way of getting a 1D cube. We better take the average.\n",
    "#Indeed, constraining the cube to just one cell I don't think makes much sense...\n",
    "\n",
    "#1. We put bound to the cells in order to take an area-average:\n",
    "if not c0.coord('longitude').has_bounds():\n",
    "    c0.coord('longitude').guess_bounds()\n",
    "\n",
    "if not c0.coord('latitude').has_bounds():\n",
    "    c0.coord('latitude').guess_bounds()\n",
    "\n",
    "#2. We get the area weights of the cells composing the region:\n",
    "grid_areas = iris.analysis.cartography.area_weights(c0)\n",
    "\n",
    "#3. We \"collapse\" our 2D+Time cube into a 0D+Time by averaging using MEAN aggregator:\n",
    "c0collapsed = c0.collapsed(['longitude', 'latitude'], iris.analysis.MEAN, weights=grid_areas)\n",
    "\n",
    "print(c0collapsed)"
   ]
  },
  {
   "cell_type": "code",
   "execution_count": 15,
   "metadata": {
    "collapsed": false
   },
   "outputs": [
    {
     "name": "stdout",
     "output_type": "stream",
     "text": [
      "Original collapsed Cube: \n",
      "AIR TEMPERATURE / (degree_celsius)  (TIME: 12)\n",
      "     Dimension coordinates:\n",
      "          TIME                           x\n",
      "     Scalar coordinates:\n",
      "          latitude: 0.0 degrees, bound=(-90.0, 90.0) degrees\n",
      "          longitude: 200.0 degrees, bound=(20.0, 380.0) degrees\n",
      "     Attributes:\n",
      "          DODS_EXTRA.Unlimited_Dimension: TIME\n",
      "          NC_GLOBAL.history: FERRET V4.30 (debug/no GUI) 15-Aug-96\n",
      "          history: From coads_climatology\n",
      "     Cell methods:\n",
      "          mean: longitude, latitude\n",
      "\n",
      "Interpolated Cube: \n",
      "AIR TEMPERATURE / (degree_celsius)  (TIME: 50)\n",
      "     Dimension coordinates:\n",
      "          TIME                           x\n",
      "     Scalar coordinates:\n",
      "          latitude: 0.0 degrees, bound=(-90.0, 90.0) degrees\n",
      "          longitude: 200.0 degrees, bound=(20.0, 380.0) degrees\n",
      "     Attributes:\n",
      "          DODS_EXTRA.Unlimited_Dimension: TIME\n",
      "          NC_GLOBAL.history: FERRET V4.30 (debug/no GUI) 15-Aug-96\n",
      "          history: From coads_climatology\n",
      "     Cell methods:\n",
      "          mean: longitude, latitude\n",
      "\n"
     ]
    }
   ],
   "source": [
    "#We now want to interpolate between tmin and tmax. \n",
    "\n",
    "#We get the bounds:\n",
    "if not c0.coord('TIME').has_bounds():\n",
    "    c0.coord('TIME').guess_bounds()\n",
    "minT = c0.coord('TIME').bounds.min()\n",
    "maxT = c0.coord('TIME').bounds.max()\n",
    "\n",
    "#We set the sample points on the coordinate TIME:\n",
    "sample_points = [('TIME',np.linspace(minT,maxT))]\n",
    "\n",
    "#We make a 'Linear' interpolation. The other option is 'Nearest'\n",
    "c_interp = c0collapsed.interpolate(sample_points, iris.analysis.Linear())\n",
    "\n",
    "#Notice that the extracted and the interpolated cubes look the same\n",
    "#except for the number of time points available (12 the original, vs 50 the interpolated)\n",
    "print(\"Original collapsed Cube: \\n{}\\n\".format(c0collapsed))\n",
    "print(\"Interpolated Cube: \\n{}\\n\".format(c_interp))"
   ]
  },
  {
   "cell_type": "code",
   "execution_count": 16,
   "metadata": {
    "collapsed": true
   },
   "outputs": [],
   "source": [
    "#We now plot the evolution of the temperature:\n",
    "iplt.plot(c0collapsed,'ro')\n",
    "iplt.plot(c_interp,'b.')\n",
    "plt.show()"
   ]
  },
  {
   "cell_type": "code",
   "execution_count": 17,
   "metadata": {
    "collapsed": false
   },
   "outputs": [
    {
     "name": "stdout",
     "output_type": "stream",
     "text": [
      "Interpolated Cube: \n",
      "AIR TEMPERATURE / (degree_celsius)  (TIME: 12; latitude: 50; longitude: 50)\n",
      "     Dimension coordinates:\n",
      "          TIME                           x             -              -\n",
      "          latitude                       -             x              -\n",
      "          longitude                      -             -              x\n",
      "     Attributes:\n",
      "          DODS_EXTRA.Unlimited_Dimension: TIME\n",
      "          NC_GLOBAL.history: FERRET V4.30 (debug/no GUI) 15-Aug-96\n",
      "          history: From coads_climatology\n",
      "\n"
     ]
    }
   ],
   "source": [
    "#We now do the reverse...\n",
    "\n",
    "#We get the bounds:\n",
    "if not c0.coord('longitude').has_bounds():\n",
    "    c0.coord('longitude').guess_bounds()\n",
    "minLon = c0.coord('longitude').bounds.min()\n",
    "maxLon = c0.coord('longitude').bounds.max()\n",
    "\n",
    "if not c0.coord('latitude').has_bounds():\n",
    "    c0.coord('latitude').guess_bounds()\n",
    "minLat = c0.coord('latitude').bounds.min()\n",
    "maxLat = c0.coord('latitude').bounds.max()\n",
    "\n",
    "#We set the sample points on the coordinate TIME:\n",
    "sample_points = [('longitude',np.linspace(minLon,maxLon)),('latitude',np.linspace(minLat,maxLat))]\n",
    "\n",
    "#We make a 'Linear' interpolation. The other option is 'Nearest'\n",
    "c_interpol = c0.interpolate(sample_points, iris.analysis.Linear())\n",
    "#c_interpol2 = c_interpol.interpolate([('longitude',[45]),('latitude',[47])],iris.analysis.Linear())\n",
    "#Notice that the extracted and the interpolated cubes look the same\n",
    "#except for the number of time points available (12 the original, vs 50 the interpolated)\n",
    "#print(\"Original collapsed Cube: \\n{}\\n\".format(c0collapsed))\n",
    "print(\"Interpolated Cube: \\n{}\\n\".format(c_interpol))\n",
    "#print(\"Interpolated Cube2: \\n{}\\n\".format(c_interpol2))"
   ]
  },
  {
   "cell_type": "code",
   "execution_count": 18,
   "metadata": {
    "collapsed": false
   },
   "outputs": [
    {
     "name": "stdout",
     "output_type": "stream",
     "text": [
      "AIR TEMPERATURE / (degree_celsius)  (TIME: 12; latitude: 90; longitude: 180)\n",
      "     Dimension coordinates:\n",
      "          TIME                           x             -              -\n",
      "          latitude                       -             x              -\n",
      "          longitude                      -             -              x\n",
      "     Attributes:\n",
      "          DODS_EXTRA.Unlimited_Dimension: TIME\n",
      "          NC_GLOBAL.history: FERRET V4.30 (debug/no GUI) 15-Aug-96\n",
      "          history: From coads_climatology\n"
     ]
    }
   ],
   "source": [
    "print(c0)"
   ]
  },
  {
   "cell_type": "code",
   "execution_count": null,
   "metadata": {
    "collapsed": true
   },
   "outputs": [],
   "source": []
  }
 ],
 "metadata": {
  "kernelspec": {
   "display_name": "Python 3",
   "language": "python",
   "name": "python3"
  },
  "language_info": {
   "codemirror_mode": {
    "name": "ipython",
    "version": 3
   },
   "file_extension": ".py",
   "mimetype": "text/x-python",
   "name": "python",
   "nbconvert_exporter": "python",
   "pygments_lexer": "ipython3",
   "version": "3.4.4"
  }
 },
 "nbformat": 4,
 "nbformat_minor": 0
}
