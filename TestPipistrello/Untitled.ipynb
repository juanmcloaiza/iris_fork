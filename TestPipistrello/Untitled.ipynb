{
 "cells": [
  {
   "cell_type": "code",
   "execution_count": 1,
   "metadata": {
    "collapsed": false
   },
   "outputs": [],
   "source": [
    "#Import modules:\n",
    "import sys\n",
    "import os, errno\n",
    "import user_interface as ui\n",
    "import matplotlib.pyplot as plt\n",
    "import iris\n",
    "import iris.plot as iplt\n",
    "\n",
    "\n",
    "\n",
    "from __future__ import (absolute_import, division, print_function)\n",
    "from six.moves import (filter, input, map, range, zip)  # noqa\n",
    "\n"
   ]
  },
  {
   "cell_type": "code",
   "execution_count": 2,
   "metadata": {
    "collapsed": false
   },
   "outputs": [],
   "source": [
    "cubes = iris.load('../../coads_climatology.nc.nc')"
   ]
  },
  {
   "cell_type": "code",
   "execution_count": 3,
   "metadata": {
    "collapsed": false
   },
   "outputs": [
    {
     "name": "stdout",
     "output_type": "stream",
     "text": [
      "0: ZONAL WIND / (meter per second)     (TIME: 12; latitude: 90; longitude: 180)\n",
      "1: AIR TEMPERATURE / (degree_celsius)  (TIME: 12; latitude: 90; longitude: 180)\n",
      "2: SEA SURFACE TEMPERATURE / (degree_celsius) (TIME: 12; latitude: 90; longitude: 180)\n",
      "3: MERIDIONAL WIND / (meter per second) (TIME: 12; latitude: 90; longitude: 180)\n"
     ]
    }
   ],
   "source": [
    "print(cubes)"
   ]
  },
  {
   "cell_type": "code",
   "execution_count": 4,
   "metadata": {
    "collapsed": false
   },
   "outputs": [
    {
     "name": "stdout",
     "output_type": "stream",
     "text": [
      "AIR TEMPERATURE / (degree_celsius)  (TIME: 12; latitude: 90; longitude: 180)\n",
      "     Dimension coordinates:\n",
      "          TIME                           x             -              -\n",
      "          latitude                       -             x              -\n",
      "          longitude                      -             -              x\n",
      "     Attributes:\n",
      "          DODS_EXTRA.Unlimited_Dimension: TIME\n",
      "          NC_GLOBAL.history: FERRET V4.30 (debug/no GUI) 15-Aug-96\n",
      "          history: From coads_climatology\n"
     ]
    }
   ],
   "source": [
    "for c in cubes:\n",
    "    if c.name() == 'AIR TEMPERATURE':\n",
    "        c0 = c\n",
    "print(c0)\n"
   ]
  },
  {
   "cell_type": "code",
   "execution_count": 5,
   "metadata": {
    "collapsed": false
   },
   "outputs": [
    {
     "name": "stdout",
     "output_type": "stream",
     "text": [
      "TIME\n",
      "latitude\n",
      "longitude\n"
     ]
    }
   ],
   "source": [
    "for coord in c0.coords():\n",
    "    print(coord.name())"
   ]
  },
  {
   "cell_type": "code",
   "execution_count": 6,
   "metadata": {
    "collapsed": false
   },
   "outputs": [
    {
     "name": "stdout",
     "output_type": "stream",
     "text": [
      "DimCoord(array([-89., -87., -85., -83., -81., -79., -77., -75., -73., -71., -69.,\n",
      "       -67., -65., -63., -61., -59., -57., -55., -53., -51., -49., -47.,\n",
      "       -45., -43., -41., -39., -37., -35., -33., -31., -29., -27., -25.,\n",
      "       -23., -21., -19., -17., -15., -13., -11.,  -9.,  -7.,  -5.,  -3.,\n",
      "        -1.,   1.,   3.,   5.,   7.,   9.,  11.,  13.,  15.,  17.,  19.,\n",
      "        21.,  23.,  25.,  27.,  29.,  31.,  33.,  35.,  37.,  39.,  41.,\n",
      "        43.,  45.,  47.,  49.,  51.,  53.,  55.,  57.,  59.,  61.,  63.,\n",
      "        65.,  67.,  69.,  71.,  73.,  75.,  77.,  79.,  81.,  83.,  85.,\n",
      "        87.,  89.]), standard_name='latitude', units=Unit('degrees'), var_name='COADSY', attributes={'point_spacing': 'even'})\n",
      "DimCoord(array([  21.,   23.,   25.,   27.,   29.,   31.,   33.,   35.,   37.,\n",
      "         39.,   41.,   43.,   45.,   47.,   49.,   51.,   53.,   55.,\n",
      "         57.,   59.,   61.,   63.,   65.,   67.,   69.,   71.,   73.,\n",
      "         75.,   77.,   79.,   81.,   83.,   85.,   87.,   89.,   91.,\n",
      "         93.,   95.,   97.,   99.,  101.,  103.,  105.,  107.,  109.,\n",
      "        111.,  113.,  115.,  117.,  119.,  121.,  123.,  125.,  127.,\n",
      "        129.,  131.,  133.,  135.,  137.,  139.,  141.,  143.,  145.,\n",
      "        147.,  149.,  151.,  153.,  155.,  157.,  159.,  161.,  163.,\n",
      "        165.,  167.,  169.,  171.,  173.,  175.,  177.,  179.,  181.,\n",
      "        183.,  185.,  187.,  189.,  191.,  193.,  195.,  197.,  199.,\n",
      "        201.,  203.,  205.,  207.,  209.,  211.,  213.,  215.,  217.,\n",
      "        219.,  221.,  223.,  225.,  227.,  229.,  231.,  233.,  235.,\n",
      "        237.,  239.,  241.,  243.,  245.,  247.,  249.,  251.,  253.,\n",
      "        255.,  257.,  259.,  261.,  263.,  265.,  267.,  269.,  271.,\n",
      "        273.,  275.,  277.,  279.,  281.,  283.,  285.,  287.,  289.,\n",
      "        291.,  293.,  295.,  297.,  299.,  301.,  303.,  305.,  307.,\n",
      "        309.,  311.,  313.,  315.,  317.,  319.,  321.,  323.,  325.,\n",
      "        327.,  329.,  331.,  333.,  335.,  337.,  339.,  341.,  343.,\n",
      "        345.,  347.,  349.,  351.,  353.,  355.,  357.,  359.,  361.,\n",
      "        363.,  365.,  367.,  369.,  371.,  373.,  375.,  377.,  379.]), standard_name='longitude', units=Unit('degrees'), var_name='COADSX', attributes={'modulo': ' ', 'point_spacing': 'even'}, circular=True)\n"
     ]
    }
   ],
   "source": [
    "print(c0.coord('latitude'))\n",
    "print(c0.coord('longitude'))"
   ]
  },
  {
   "cell_type": "code",
   "execution_count": 7,
   "metadata": {
    "collapsed": false
   },
   "outputs": [
    {
     "ename": "ValueError",
     "evalue": "zero not allowed as a reference year, does not exist in Julian or Gregorian calendars",
     "output_type": "error",
     "traceback": [
      "\u001b[1;31m---------------------------------------------------------------------------\u001b[0m",
      "\u001b[1;31mValueError\u001b[0m                                Traceback (most recent call last)",
      "\u001b[1;32m<ipython-input-7-77d7f55160c1>\u001b[0m in \u001b[0;36m<module>\u001b[1;34m()\u001b[0m\n\u001b[0;32m      3\u001b[0m \u001b[1;31m#zero not allowed as a reference year, does not exist in Julian or Gregorian calendars\u001b[0m\u001b[1;33m\u001b[0m\u001b[1;33m\u001b[0m\u001b[0m\n\u001b[0;32m      4\u001b[0m \u001b[1;33m\u001b[0m\u001b[0m\n\u001b[1;32m----> 5\u001b[1;33m \u001b[0mprint\u001b[0m\u001b[1;33m(\u001b[0m\u001b[0mc0\u001b[0m\u001b[1;33m.\u001b[0m\u001b[0mcoord\u001b[0m\u001b[1;33m(\u001b[0m\u001b[1;34m'TIME'\u001b[0m\u001b[1;33m)\u001b[0m\u001b[1;33m)\u001b[0m\u001b[1;33m\u001b[0m\u001b[0m\n\u001b[0m\u001b[0;32m      6\u001b[0m \u001b[1;33m\u001b[0m\u001b[0m\n\u001b[0;32m      7\u001b[0m \u001b[1;31m#Why? ...See the error and next box for the solution.\u001b[0m\u001b[1;33m\u001b[0m\u001b[1;33m\u001b[0m\u001b[0m\n",
      "\u001b[1;32m/home/juan/MHPC-Thesis/pipistrello/lib/iris/coords.py\u001b[0m in \u001b[0;36m__str__\u001b[1;34m(self)\u001b[0m\n\u001b[0;32m    576\u001b[0m                   \u001b[1;34m', standard_name={self.standard_name!r}'\u001b[0m\u001b[0;31m \u001b[0m\u001b[0;31m\\\u001b[0m\u001b[1;33m\u001b[0m\u001b[0m\n\u001b[0;32m    577\u001b[0m                   \u001b[1;34m', calendar={self.units.calendar!r}{other_metadata})'\u001b[0m\u001b[1;33m\u001b[0m\u001b[0m\n\u001b[1;32m--> 578\u001b[1;33m             \u001b[0mpoints\u001b[0m \u001b[1;33m=\u001b[0m \u001b[0mself\u001b[0m\u001b[1;33m.\u001b[0m\u001b[0m_str_dates\u001b[0m\u001b[1;33m(\u001b[0m\u001b[0mself\u001b[0m\u001b[1;33m.\u001b[0m\u001b[0mpoints\u001b[0m\u001b[1;33m)\u001b[0m\u001b[1;33m\u001b[0m\u001b[0m\n\u001b[0m\u001b[0;32m    579\u001b[0m             \u001b[0mbounds\u001b[0m \u001b[1;33m=\u001b[0m \u001b[1;34m''\u001b[0m\u001b[1;33m\u001b[0m\u001b[0m\n\u001b[0;32m    580\u001b[0m             \u001b[1;32mif\u001b[0m \u001b[0mself\u001b[0m\u001b[1;33m.\u001b[0m\u001b[0mbounds\u001b[0m \u001b[1;32mis\u001b[0m \u001b[1;32mnot\u001b[0m \u001b[1;32mNone\u001b[0m\u001b[1;33m:\u001b[0m\u001b[1;33m\u001b[0m\u001b[0m\n",
      "\u001b[1;32m/home/juan/MHPC-Thesis/pipistrello/lib/iris/coords.py\u001b[0m in \u001b[0;36m_str_dates\u001b[1;34m(self, dates_as_numbers)\u001b[0m\n\u001b[0;32m    559\u001b[0m \u001b[1;33m\u001b[0m\u001b[0m\n\u001b[0;32m    560\u001b[0m     \u001b[1;32mdef\u001b[0m \u001b[0m_str_dates\u001b[0m\u001b[1;33m(\u001b[0m\u001b[0mself\u001b[0m\u001b[1;33m,\u001b[0m \u001b[0mdates_as_numbers\u001b[0m\u001b[1;33m)\u001b[0m\u001b[1;33m:\u001b[0m\u001b[1;33m\u001b[0m\u001b[0m\n\u001b[1;32m--> 561\u001b[1;33m         \u001b[0mdate_obj_array\u001b[0m \u001b[1;33m=\u001b[0m \u001b[0mself\u001b[0m\u001b[1;33m.\u001b[0m\u001b[0munits\u001b[0m\u001b[1;33m.\u001b[0m\u001b[0mnum2date\u001b[0m\u001b[1;33m(\u001b[0m\u001b[0mdates_as_numbers\u001b[0m\u001b[1;33m)\u001b[0m\u001b[1;33m\u001b[0m\u001b[0m\n\u001b[0m\u001b[0;32m    562\u001b[0m         \u001b[0mkwargs\u001b[0m \u001b[1;33m=\u001b[0m \u001b[1;33m{\u001b[0m\u001b[1;34m'separator'\u001b[0m\u001b[1;33m:\u001b[0m \u001b[1;34m', '\u001b[0m\u001b[1;33m,\u001b[0m \u001b[1;34m'prefix'\u001b[0m\u001b[1;33m:\u001b[0m \u001b[1;34m'      '\u001b[0m\u001b[1;33m}\u001b[0m\u001b[1;33m\u001b[0m\u001b[0m\n\u001b[0;32m    563\u001b[0m         \u001b[1;32mtry\u001b[0m\u001b[1;33m:\u001b[0m\u001b[1;33m\u001b[0m\u001b[0m\n",
      "\u001b[1;32m/anaconda3/lib/python3.4/site-packages/cf_units/__init__.py\u001b[0m in \u001b[0;36mnum2date\u001b[1;34m(self, time_value)\u001b[0m\n\u001b[0;32m   2071\u001b[0m \u001b[1;33m\u001b[0m\u001b[0m\n\u001b[0;32m   2072\u001b[0m         \"\"\"\n\u001b[1;32m-> 2073\u001b[1;33m         \u001b[0mcdf_utime\u001b[0m \u001b[1;33m=\u001b[0m \u001b[0mself\u001b[0m\u001b[1;33m.\u001b[0m\u001b[0mutime\u001b[0m\u001b[1;33m(\u001b[0m\u001b[1;33m)\u001b[0m\u001b[1;33m\u001b[0m\u001b[0m\n\u001b[0m\u001b[0;32m   2074\u001b[0m         \u001b[1;32mreturn\u001b[0m \u001b[0mcdf_utime\u001b[0m\u001b[1;33m.\u001b[0m\u001b[0mnum2date\u001b[0m\u001b[1;33m(\u001b[0m\u001b[0mtime_value\u001b[0m\u001b[1;33m)\u001b[0m\u001b[1;33m\u001b[0m\u001b[0m\n",
      "\u001b[1;32m/anaconda3/lib/python3.4/site-packages/cf_units/__init__.py\u001b[0m in \u001b[0;36mutime\u001b[1;34m(self)\u001b[0m\n\u001b[0;32m   1992\u001b[0m         \u001b[1;32mif\u001b[0m \u001b[0mself\u001b[0m\u001b[1;33m.\u001b[0m\u001b[0mcalendar\u001b[0m \u001b[1;32mis\u001b[0m \u001b[1;32mNone\u001b[0m\u001b[1;33m:\u001b[0m\u001b[1;33m\u001b[0m\u001b[0m\n\u001b[0;32m   1993\u001b[0m             \u001b[1;32mraise\u001b[0m \u001b[0mValueError\u001b[0m\u001b[1;33m(\u001b[0m\u001b[1;34m'Unit has undefined calendar'\u001b[0m\u001b[1;33m)\u001b[0m\u001b[1;33m\u001b[0m\u001b[0m\n\u001b[1;32m-> 1994\u001b[1;33m         \u001b[1;32mreturn\u001b[0m \u001b[0mnetcdftime\u001b[0m\u001b[1;33m.\u001b[0m\u001b[0mutime\u001b[0m\u001b[1;33m(\u001b[0m\u001b[0mstr\u001b[0m\u001b[1;33m(\u001b[0m\u001b[0mself\u001b[0m\u001b[1;33m)\u001b[0m\u001b[1;33m.\u001b[0m\u001b[0mrstrip\u001b[0m\u001b[1;33m(\u001b[0m\u001b[1;34m\" UTC\"\u001b[0m\u001b[1;33m)\u001b[0m\u001b[1;33m,\u001b[0m \u001b[0mself\u001b[0m\u001b[1;33m.\u001b[0m\u001b[0mcalendar\u001b[0m\u001b[1;33m)\u001b[0m\u001b[1;33m\u001b[0m\u001b[0m\n\u001b[0m\u001b[0;32m   1995\u001b[0m \u001b[1;33m\u001b[0m\u001b[0m\n\u001b[0;32m   1996\u001b[0m     \u001b[1;32mdef\u001b[0m \u001b[0mdate2num\u001b[0m\u001b[1;33m(\u001b[0m\u001b[0mself\u001b[0m\u001b[1;33m,\u001b[0m \u001b[0mdate\u001b[0m\u001b[1;33m)\u001b[0m\u001b[1;33m:\u001b[0m\u001b[1;33m\u001b[0m\u001b[0m\n",
      "\u001b[1;32m/anaconda3/lib/python3.4/site-packages/netcdftime/netcdftime.py\u001b[0m in \u001b[0;36m__init__\u001b[1;34m(self, unit_string, calendar)\u001b[0m\n\u001b[0;32m    680\u001b[0m             \u001b[1;32mif\u001b[0m \u001b[0mself\u001b[0m\u001b[1;33m.\u001b[0m\u001b[0morigin\u001b[0m\u001b[1;33m.\u001b[0m\u001b[0myear\u001b[0m \u001b[1;33m==\u001b[0m \u001b[1;36m0\u001b[0m\u001b[1;33m:\u001b[0m\u001b[1;33m\u001b[0m\u001b[0m\n\u001b[0;32m    681\u001b[0m                 \u001b[0mmsg\u001b[0m\u001b[1;33m=\u001b[0m\u001b[1;34m'zero not allowed as a reference year, does not exist in Julian or Gregorian calendars'\u001b[0m\u001b[1;33m\u001b[0m\u001b[0m\n\u001b[1;32m--> 682\u001b[1;33m                 \u001b[1;32mraise\u001b[0m \u001b[0mValueError\u001b[0m\u001b[1;33m(\u001b[0m\u001b[0mmsg\u001b[0m\u001b[1;33m)\u001b[0m\u001b[1;33m\u001b[0m\u001b[0m\n\u001b[0m\u001b[0;32m    683\u001b[0m             \u001b[1;32melif\u001b[0m \u001b[0mself\u001b[0m\u001b[1;33m.\u001b[0m\u001b[0morigin\u001b[0m\u001b[1;33m.\u001b[0m\u001b[0myear\u001b[0m \u001b[1;33m<\u001b[0m \u001b[1;36m0\u001b[0m\u001b[1;33m:\u001b[0m\u001b[1;33m\u001b[0m\u001b[0m\n\u001b[0;32m    684\u001b[0m                 \u001b[0mmsg\u001b[0m\u001b[1;33m=\u001b[0m\u001b[1;34m'negative reference year in time units, must be >= 1'\u001b[0m\u001b[1;33m\u001b[0m\u001b[0m\n",
      "\u001b[1;31mValueError\u001b[0m: zero not allowed as a reference year, does not exist in Julian or Gregorian calendars"
     ]
    }
   ],
   "source": [
    "#This will give error:\n",
    "#ValueError: \n",
    "#zero not allowed as a reference year, does not exist in Julian or Gregorian calendars\n",
    "\n",
    "print(c0.coord('TIME'))\n",
    "\n",
    "#Why? ...See the error and next box for the solution."
   ]
  },
  {
   "cell_type": "code",
   "execution_count": 8,
   "metadata": {
    "collapsed": false
   },
   "outputs": [
    {
     "name": "stdout",
     "output_type": "stream",
     "text": [
      "hour since 0000-01-01 00:00:00\n"
     ]
    }
   ],
   "source": [
    "#Reason for the error above: The reference year is set to zero...\n",
    "#See...\n",
    "print(c0.coord('TIME').units)"
   ]
  },
  {
   "cell_type": "code",
   "execution_count": 9,
   "metadata": {
    "collapsed": false
   },
   "outputs": [
    {
     "name": "stdout",
     "output_type": "stream",
     "text": [
      "hour since 1970-01-01 00:00:00\n"
     ]
    }
   ],
   "source": [
    "#We change the reference year by doing the following:\n",
    "c0.coord('TIME').units='hour since epoch'\n",
    "c0t = c0.coord('TIME')\n",
    "#\"epoch\" = 1st of january of 1970.\n",
    "print(c0t.units)\n"
   ]
  },
  {
   "cell_type": "code",
   "execution_count": 10,
   "metadata": {
    "collapsed": false
   },
   "outputs": [
    {
     "name": "stdout",
     "output_type": "stream",
     "text": [
      "DimCoord([1970-01-16 06:00:00, 1970-02-15 16:29:06.000004,\n",
      "       1970-03-18 02:58:12, 1970-04-17 13:27:18, 1970-05-17 23:56:24,\n",
      "       1970-06-17 10:25:30.000009, 1970-07-17 20:54:36,\n",
      "       1970-08-17 07:23:42, 1970-09-16 17:52:48.000003,\n",
      "       1970-10-17 04:21:54, 1970-11-16 14:51:00, 1970-12-17 01:20:06], standard_name=None, calendar='gregorian', var_name='TIME', attributes={'modulo': ' ', 'time_origin': '1-JAN-0000 00:00:00'})\n"
     ]
    }
   ],
   "source": [
    "#Now we can safely print the coordinate:\n",
    "print(c0.coord('TIME'))"
   ]
  },
  {
   "cell_type": "code",
   "execution_count": 11,
   "metadata": {
    "collapsed": false
   },
   "outputs": [
    {
     "name": "stdout",
     "output_type": "stream",
     "text": [
      "1-JAN-0000 00:00:00\n",
      "01-JAN-1970 00:00:00\n"
     ]
    }
   ],
   "source": [
    "#As the 'time_origin' attribute is still wrong...\n",
    "print(c0.coord('TIME').attributes['time_origin'])\n",
    "\n",
    "#We change it by:\n",
    "c0.coord('TIME').attributes['time_origin'] = '01-JAN-1970 00:00:00'\n",
    "\n",
    "print(c0.coord('TIME').attributes['time_origin'])\n",
    "#temp = c2.extract(iris.Constraint(TIME=c'1970-01-16 06:00:00',longitude=45))\n",
    "#print(temp)"
   ]
  },
  {
   "cell_type": "code",
   "execution_count": 12,
   "metadata": {
    "collapsed": false
   },
   "outputs": [
    {
     "name": "stdout",
     "output_type": "stream",
     "text": [
      "The original cube:\n",
      " AIR TEMPERATURE / (degree_celsius)  (TIME: 12; latitude: 90; longitude: 180)\n",
      "     Dimension coordinates:\n",
      "          TIME                           x             -              -\n",
      "          latitude                       -             x              -\n",
      "          longitude                      -             -              x\n",
      "     Attributes:\n",
      "          DODS_EXTRA.Unlimited_Dimension: TIME\n",
      "          NC_GLOBAL.history: FERRET V4.30 (debug/no GUI) 15-Aug-96\n",
      "          history: From coads_climatology\n",
      "\n",
      "Extracting a sub-cube with only longitude = 45:\n",
      " AIR TEMPERATURE / (degree_celsius)  (TIME: 12; latitude: 90)\n",
      "     Dimension coordinates:\n",
      "          TIME                           x             -\n",
      "          latitude                       -             x\n",
      "     Scalar coordinates:\n",
      "          longitude: 45.0 degrees\n",
      "     Attributes:\n",
      "          DODS_EXTRA.Unlimited_Dimension: TIME\n",
      "          NC_GLOBAL.history: FERRET V4.30 (debug/no GUI) 15-Aug-96\n",
      "          history: From coads_climatology\n",
      "\n",
      "Extracting again a sub-cube with only latitude = 47:\n",
      " AIR TEMPERATURE / (degree_celsius)  (TIME: 12)\n",
      "     Dimension coordinates:\n",
      "          TIME                           x\n",
      "     Scalar coordinates:\n",
      "          latitude: 47.0 degrees\n",
      "          longitude: 45.0 degrees\n",
      "     Attributes:\n",
      "          DODS_EXTRA.Unlimited_Dimension: TIME\n",
      "          NC_GLOBAL.history: FERRET V4.30 (debug/no GUI) 15-Aug-96\n",
      "          history: From coads_climatology\n",
      "\n"
     ]
    }
   ],
   "source": [
    "#Now we're almost set to plot the evolution of the temperature in time...\n",
    "#We need to extract a cube and for this we create constraints:\n",
    "print(\"The original cube:\\n {}\\n\".format(c0))\n",
    "c1 = c0.extract(iris.Constraint(longitude=45))\n",
    "print(\"Extracting a sub-cube with only longitude = 45:\\n {}\\n\".format(c1))\n",
    "c2 = c1.extract(iris.Constraint(latitude=47))\n",
    "print(\"Extracting again a sub-cube with only latitude = 47:\\n {}\\n\".format(c2))"
   ]
  },
  {
   "cell_type": "code",
   "execution_count": 13,
   "metadata": {
    "collapsed": false
   },
   "outputs": [
    {
     "name": "stdout",
     "output_type": "stream",
     "text": [
      "AIR TEMPERATURE / (degree_celsius)  (TIME: 12)\n",
      "     Dimension coordinates:\n",
      "          TIME                           x\n",
      "     Scalar coordinates:\n",
      "          latitude: 1.0 degrees\n",
      "          longitude: 181.0 degrees\n",
      "     Attributes:\n",
      "          DODS_EXTRA.Unlimited_Dimension: TIME\n",
      "          NC_GLOBAL.history: FERRET V4.30 (debug/no GUI) 15-Aug-96\n",
      "          history: From coads_climatology\n",
      "[[[-- -- -- ..., -- -- --]\n",
      "  [-- -- -- ..., -- -- --]\n",
      "  [-- -- -- ..., -- -- --]\n",
      "  ..., \n",
      "  [-- -- -- ..., -- -- --]\n",
      "  [-- -- -- ..., -- -- --]\n",
      "  [-- -- -- ..., -- -- --]]\n",
      "\n",
      " [[-- -- -- ..., -- -- --]\n",
      "  [-- -- -- ..., -- -- --]\n",
      "  [-- -- -- ..., -- -- --]\n",
      "  ..., \n",
      "  [-- -- -- ..., -- -- --]\n",
      "  [-- -- -- ..., -- -- --]\n",
      "  [-- -- -- ..., -- -- --]]\n",
      "\n",
      " [[-- -- -- ..., -- -- --]\n",
      "  [-- -- -- ..., -- -- --]\n",
      "  [-- -- -- ..., -- -- --]\n",
      "  ..., \n",
      "  [-- -- -- ..., -- -- --]\n",
      "  [-- -- -- ..., -- -- --]\n",
      "  [-- -- -- ..., -- -- --]]\n",
      "\n",
      " ..., \n",
      " [[-- -- -- ..., -- -- --]\n",
      "  [-- -- -- ..., -- -- --]\n",
      "  [-- -- -- ..., -- -- --]\n",
      "  ..., \n",
      "  [-- -- -- ..., -- -- --]\n",
      "  [-- -- -29.0 ..., -- -- --]\n",
      "  [-- -- -- ..., -- -- --]]\n",
      "\n",
      " [[-- -- -- ..., -- -- --]\n",
      "  [-- -- -- ..., -- -- --]\n",
      "  [-- -- -- ..., -- -- --]\n",
      "  ..., \n",
      "  [-- -- -- ..., -- -- --]\n",
      "  [-- -- -- ..., -- -- --]\n",
      "  [-- -- -- ..., -- -- --]]\n",
      "\n",
      " [[-- -- -- ..., -- -- --]\n",
      "  [-- -- -- ..., -- -- --]\n",
      "  [-- -- -- ..., -- -- --]\n",
      "  ..., \n",
      "  [-- -- -- ..., -- -- --]\n",
      "  [-- -- -- ..., -- -- --]\n",
      "  [-- -- -- ..., -- -- --]]]\n"
     ]
    }
   ],
   "source": [
    "#Another way of slicing a cube:\n",
    "c3 = c0[:,45,80]\n",
    "\n",
    "print(c3)\n",
    "print(c0.data)\n",
    "\n"
   ]
  },
  {
   "cell_type": "code",
   "execution_count": null,
   "metadata": {
    "collapsed": false
   },
   "outputs": [],
   "source": [
    "#We can now plot the temporal evolution on that (45,47) cell...\n",
    "iplt.plot(c0.coord('TIME'),c0.coord('TIME'))\n",
    "plt.show()"
   ]
  },
  {
   "cell_type": "code",
   "execution_count": null,
   "metadata": {
    "collapsed": true
   },
   "outputs": [],
   "source": []
  },
  {
   "cell_type": "code",
   "execution_count": null,
   "metadata": {
    "collapsed": true
   },
   "outputs": [],
   "source": []
  }
 ],
 "metadata": {
  "kernelspec": {
   "display_name": "Python 3",
   "language": "python",
   "name": "python3"
  },
  "language_info": {
   "codemirror_mode": {
    "name": "ipython",
    "version": 3
   },
   "file_extension": ".py",
   "mimetype": "text/x-python",
   "name": "python",
   "nbconvert_exporter": "python",
   "pygments_lexer": "ipython3",
   "version": "3.4.4"
  }
 },
 "nbformat": 4,
 "nbformat_minor": 0
}
